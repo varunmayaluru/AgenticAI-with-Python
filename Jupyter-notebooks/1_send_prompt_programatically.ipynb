{
 "cells": [
  {
   "cell_type": "code",
   "execution_count": 1,
   "metadata": {},
   "outputs": [
    {
     "name": "stdout",
     "output_type": "stream",
     "text": [
      "Certainly! In a functional programming style, we typically strive to use immutable data structures, avoid side effects, and utilize functions like `map`, `filter`, and `reduce`. Here, I'll provide a pure function to swap the keys and values in a dictionary. Note that if the dictionary has duplicate values, swapping keys and values may lead to loss of data.\n",
      "\n",
      "Here is a function in Python that swaps the keys and values of a dictionary:\n",
      "\n",
      "```python\n",
      "def swap_keys_values(d):\n",
      "    # Check for duplicate values which will become keys\n",
      "    if len(set(d.values())) != len(d):\n",
      "        raise ValueError(\"Cannot swap keys and values due to non-unique values.\")\n",
      "\n",
      "    # Use a dictionary comprehension to swap keys and values\n",
      "    return {value: key for key, value in d.items()}\n",
      "\n",
      "# Example usage:\n",
      "original = {'a': 1, 'b': 2, 'c': 3}\n",
      "swapped = swap_keys_values(original)\n",
      "print(swapped)  # Output: {1: 'a', 2: 'b', 3: 'c'}\n",
      "```\n",
      "\n",
      "This function performs the following steps:\n",
      "1. It first checks if all values in the dictionary are unique, as swapping non-unique values would result in data loss. This check is achieved by comparing the length of the set of values to the number of key-value pairs.\n",
      "2. It uses a dictionary comprehension to create a new dictionary where each key-value pair from the original dictionary is reversed.\n",
      "\n",
      "This approach maintains immutability as it creates a new dictionary instead of modifying the original.\n"
     ]
    }
   ],
   "source": [
    "from litellm import completion\n",
    "from typing import List, Dict\n",
    "from dotenv import load_dotenv\n",
    "import os\n",
    "\n",
    "load_dotenv()\n",
    "\n",
    "def generate_response(messages: List[Dict]) -> str:\n",
    "    \"\"\"Call LLM to get response\"\"\"\n",
    "    response = completion(\n",
    "        model=\"openai/gpt-4o\",\n",
    "        messages=messages,\n",
    "        max_tokens=1024,\n",
    "        api_key=os.getenv(\"OPENAI_API_KEY\")\n",
    "    )\n",
    "    return response.choices[0].message.content\n",
    "\n",
    "\n",
    "messages = [\n",
    "    {\"role\": \"system\", \"content\": \"You are an expert software engineer that prefers functional programming.\"},\n",
    "    {\"role\": \"user\", \"content\": \"Write a function to swap the keys and values in a dictionary.\"}\n",
    "]\n",
    "\n",
    "response = generate_response(messages)\n",
    "print(response)"
   ]
  }
 ],
 "metadata": {
  "kernelspec": {
   "display_name": "agenticai-with-python-AHBU4eiR-py3.12",
   "language": "python",
   "name": "python3"
  },
  "language_info": {
   "codemirror_mode": {
    "name": "ipython",
    "version": 3
   },
   "file_extension": ".py",
   "mimetype": "text/x-python",
   "name": "python",
   "nbconvert_exporter": "python",
   "pygments_lexer": "ipython3",
   "version": "3.12.4"
  }
 },
 "nbformat": 4,
 "nbformat_minor": 2
}
