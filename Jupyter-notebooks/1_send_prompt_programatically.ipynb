{
 "cells": [
  {
   "cell_type": "code",
   "execution_count": 1,
   "metadata": {},
   "outputs": [
    {
     "name": "stdout",
     "output_type": "stream",
     "text": [
      "To swap the keys and values in a dictionary in a functional programming style, you can use Python's dictionary comprehension. This approach is concise and emphasizes immutability by creating a new dictionary rather than modifying the original one. Here's a function to achieve that:\n",
      "\n",
      "```python\n",
      "def swap_dict_keys_values(d):\n",
      "    return {value: key for key, value in d.items()}\n",
      "\n",
      "# Example usage:\n",
      "original_dict = {'a': 1, 'b': 2, 'c': 3}\n",
      "swapped_dict = swap_dict_keys_values(original_dict)\n",
      "print(swapped_dict)  # Output: {1: 'a', 2: 'b', 3: 'c'}\n",
      "```\n",
      "\n",
      "A key point to consider is that this approach assumes that all values are unique and hashable because dictionary keys must be unique. If the values aren't unique, some keys will be overwritten in the resulting dictionary.\n"
     ]
    }
   ],
   "source": [
    "from litellm import completion\n",
    "from typing import List, Dict\n",
    "from dotenv import load_dotenv\n",
    "import os\n",
    "\n",
    "load_dotenv()\n",
    "\n",
    "def generate_response(messages: List[Dict]) -> str:\n",
    "    \"\"\"Call LLM to get response\"\"\"\n",
    "    response = completion(\n",
    "        model=\"openai/gpt-4o\",\n",
    "        messages=messages,\n",
    "        max_tokens=1024,\n",
    "        api_key=os.getenv(\"OPENAI_API_KEY\")\n",
    "    )\n",
    "    return response.choices[0].message.content\n",
    "\n",
    "\n",
    "messages = [\n",
    "    {\"role\": \"system\", \"content\": \"You are an expert software engineer that prefers functional programming.\"},\n",
    "    {\"role\": \"user\", \"content\": \"Write a function to swap the keys and values in a dictionary.\"}\n",
    "]\n",
    "\n",
    "response = generate_response(messages)\n",
    "print(response)"
   ]
  },
  {
   "cell_type": "code",
   "execution_count": null,
   "metadata": {},
   "outputs": [],
   "source": []
  }
 ],
 "metadata": {
  "kernelspec": {
   "display_name": "agenticai-with-python-AHBU4eiR-py3.12",
   "language": "python",
   "name": "python3"
  },
  "language_info": {
   "codemirror_mode": {
    "name": "ipython",
    "version": 3
   },
   "file_extension": ".py",
   "mimetype": "text/x-python",
   "name": "python",
   "nbconvert_exporter": "python",
   "pygments_lexer": "ipython3",
   "version": "3.12.4"
  }
 },
 "nbformat": 4,
 "nbformat_minor": 2
}
