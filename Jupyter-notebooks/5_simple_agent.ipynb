{
 "cells": [
  {
   "cell_type": "markdown",
   "metadata": {},
   "source": [
    "prompt = agent_rules + memory"
   ]
  },
  {
   "cell_type": "markdown",
   "metadata": {},
   "source": [
    "# Agent Components\n",
    "\n",
    "## 1. **agent_rules**\n",
    "- Contains predefined **system instructions**.\n",
    "- Ensures the agent **behaves within its defined constraints**.\n",
    "- Helps the agent understand and **properly utilize its tools**.\n",
    "\n",
    "## 2. **memory**\n",
    "- Stores a **record of all past interactions**.\n",
    "- Includes:\n",
    "  - **User inputs**\n",
    "  - **Agent’s responses**\n",
    "  - **Results of executed actions**\n",
    "- Helps the agent maintain **context** and improve responses over time.\n"
   ]
  },
  {
   "cell_type": "code",
   "execution_count": 4,
   "metadata": {},
   "outputs": [],
   "source": [
    "agent_rules = [{\n",
    "    \"role\": \"system\",\n",
    "    \"content\": \"\"\"\n",
    "You are an AI agent that can perform tasks by using available tools.\n",
    "\n",
    "Available tools:\n",
    "- list_files() -> List[str]: List all files in the current directory.\n",
    "- read_file(file_name: str) -> str: Read the content of a file.\n",
    "- terminate(message: str): End the agent loop and print a summary to the user.\n",
    "\n",
    "If a user asks about files, list them before reading.\n",
    "\n",
    "Every response MUST have an action.\n",
    "Respond in this format:\n",
    "\n",
    "```action\n",
    "{\n",
    "    \"tool_name\": \"insert tool_name\",\n",
    "    \"args\": {...fill in any required arguments here...}\"\n",
    "    \"\"\"\n",
    "}]"
   ]
  },
  {
   "cell_type": "code",
   "execution_count": 5,
   "metadata": {},
   "outputs": [],
   "source": [
    "memory = [\n",
    "    {\"role\": \"user\", \"content\": \"What files are in this directory?\"},\n",
    "    {\"role\": \"assistant\", \"content\": \"```action\\n{\\\"tool_name\\\":\\\"list_files\\\",\\\"args\\\":{}}\\n```\"},\n",
    "    {\"role\": \"user\", \"content\": \"[\\\"file1.txt\\\", \\\"file2.txt\\\"]\"}\n",
    "]"
   ]
  },
  {
   "cell_type": "code",
   "execution_count": 6,
   "metadata": {},
   "outputs": [],
   "source": [
    "from litellm import completion\n",
    "from typing import List, Dict\n",
    "import sys\n",
    "\n",
    "def generate_response(messages: List[Dict]) -> str:\n",
    "    \"\"\"Call LLM to get response\"\"\"\n",
    "    response = completion(\n",
    "        model=\"openai/gpt-4\",\n",
    "        messages=messages,\n",
    "        max_tokens=1024\n",
    "    )\n",
    "    return response.choices[0].message.content"
   ]
  },
  {
   "cell_type": "code",
   "execution_count": 8,
   "metadata": {},
   "outputs": [],
   "source": [
    "prompt = agent_rules + memory"
   ]
  },
  {
   "cell_type": "code",
   "execution_count": 9,
   "metadata": {},
   "outputs": [],
   "source": [
    "response = generate_response(prompt)"
   ]
  },
  {
   "cell_type": "code",
   "execution_count": 10,
   "metadata": {},
   "outputs": [
    {
     "data": {
      "text/plain": [
       "'These are the files in the current directory:\\n- file1.txt\\n- file2.txt\\n\\nDo you want to read one of these files?'"
      ]
     },
     "execution_count": 10,
     "metadata": {},
     "output_type": "execute_result"
    }
   ],
   "source": [
    "response"
   ]
  },
  {
   "cell_type": "code",
   "execution_count": null,
   "metadata": {},
   "outputs": [],
   "source": []
  }
 ],
 "metadata": {
  "kernelspec": {
   "display_name": "agenticai-with-python-AHBU4eiR-py3.12",
   "language": "python",
   "name": "python3"
  },
  "language_info": {
   "codemirror_mode": {
    "name": "ipython",
    "version": 3
   },
   "file_extension": ".py",
   "mimetype": "text/x-python",
   "name": "python",
   "nbconvert_exporter": "python",
   "pygments_lexer": "ipython3",
   "version": "3.12.4"
  }
 },
 "nbformat": 4,
 "nbformat_minor": 2
}
