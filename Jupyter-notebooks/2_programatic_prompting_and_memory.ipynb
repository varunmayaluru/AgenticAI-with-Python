{
 "cells": [
  {
   "cell_type": "markdown",
   "metadata": {},
   "source": [
    "### Send promps programatically and maintain memory"
   ]
  },
  {
   "cell_type": "markdown",
   "metadata": {},
   "source": [
    "# Key Learnings\n",
    "\n",
    "## 1. **Maintaining Code Specifications**\n",
    "- Using **structured specifications** (e.g., JSON format) helps define clear requirements for function implementation.\n",
    "- Ensuring the specification includes:\n",
    "  - **Function name**: Clearly states what the function should do.\n",
    "  - **Description**: Explains the function's purpose.\n",
    "  - **Parameters**: Defines input expectations.\n",
    "\n",
    "## 2. **Directionalizing LLM for Code Generation**\n",
    "- The **system prompt** plays a crucial role in guiding the LLM’s behavior.\n",
    "- By **providing clear instructions**, I can ensure the LLM:\n",
    "  - Writes **clean, functional code**.\n",
    "  - Follows **best practices**.\n",
    "  - Includes **documentation** for clarity.\n",
    "\n",
    "## 3. **Aligning AI Output with Requirements**\n",
    "- By combining **code specs** with **precise LLM directives**, I can tailor AI-generated code to match my **exact needs**.\n",
    "- This approach is useful for:\n",
    "  - **Automating code generation**.\n",
    "  - **Maintaining consistency** across functions.\n",
    "  - **Ensuring readability and reusability** of generated code.\n",
    "\n",
    "## 4. **Practical Benefits**\n",
    "- This method can be applied to:\n",
    "  - **Software development workflows**.\n",
    "  - **Automating repetitive coding tasks**.\n",
    "  - **Enhancing efficiency in engineering teams**.\n",
    "\n",
    "By leveraging structured specs and clear AI instructions, I can **maximize the accuracy and quality of AI-generated code**. 🚀\n"
   ]
  },
  {
   "cell_type": "code",
   "execution_count": 1,
   "metadata": {},
   "outputs": [],
   "source": [
    "from litellm import completion\n",
    "from typing import List, Dict\n",
    "from dotenv import load_dotenv\n",
    "import os\n",
    "\n",
    "load_dotenv()\n",
    "\n",
    "def generate_response(messages: List[Dict]) -> str:\n",
    "    \"\"\"Call LLM to get response\"\"\"\n",
    "    response = completion(\n",
    "        model=\"openai/gpt-4o\",\n",
    "        messages=messages,\n",
    "        max_tokens=1024,\n",
    "        api_key=os.getenv(\"OPENAI_API_KEY\")\n",
    "    )\n",
    "    return response.choices[0].message.content"
   ]
  },
  {
   "cell_type": "code",
   "execution_count": 2,
   "metadata": {},
   "outputs": [
    {
     "name": "stdout",
     "output_type": "stream",
     "text": [
      "```python\n",
      "def swap_keys_values(d):\n",
      "    \"\"\"\n",
      "    Swaps the keys and values in a given dictionary.\n",
      "\n",
      "    Parameters:\n",
      "    d (dict): A dictionary with unique values.\n",
      "\n",
      "    Returns:\n",
      "    dict: A new dictionary where the keys are the original dictionary's values and\n",
      "          the values are the original dictionary's keys.\n",
      "\n",
      "    Example:\n",
      "    >>> swap_keys_values({'a': 1, 'b': 2, 'c': 3})\n",
      "    {1: 'a', 2: 'b', 3: 'c'}\n",
      "    \n",
      "    Note:\n",
      "    This function assumes that the values in the input dictionary are unique,\n",
      "    as dictionary keys must be unique.\n",
      "    \"\"\"\n",
      "    return {value: key for key, value in d.items()}\n",
      "```\n",
      "\n",
      "This function `swap_keys_values` takes a dictionary `d` and returns a new dictionary where each key-value pair is swapped. It uses a dictionary comprehension to iteratively swap the keys and values from the original dictionary. It is crucial that the input dictionary has unique values because these values become the keys in the new dictionary, and dictionary keys must be unique.\n"
     ]
    }
   ],
   "source": [
    "import json\n",
    "\n",
    "code_spec = {\n",
    "    'name': 'swap_keys_values',\n",
    "    'description': 'Swaps the keys and values in a given dictionary.',\n",
    "    'params': {\n",
    "        'd': 'A dictionary with unique values.'\n",
    "    },\n",
    "}\n",
    "\n",
    "messages = [\n",
    "    {\"role\": \"system\",\n",
    "     \"content\": \"You are an expert software engineer that writes clean functional code. You always document your functions.\"},\n",
    "    {\"role\": \"user\", \"content\": f\"Please implement: {json.dumps(code_spec)}\"}\n",
    "]\n",
    "\n",
    "response = generate_response(messages)\n",
    "print(response)"
   ]
  },
  {
   "cell_type": "code",
   "execution_count": null,
   "metadata": {},
   "outputs": [],
   "source": []
  }
 ],
 "metadata": {
  "kernelspec": {
   "display_name": "agenticai-with-python-AHBU4eiR-py3.12",
   "language": "python",
   "name": "python3"
  },
  "language_info": {
   "codemirror_mode": {
    "name": "ipython",
    "version": 3
   },
   "file_extension": ".py",
   "mimetype": "text/x-python",
   "name": "python",
   "nbconvert_exporter": "python",
   "pygments_lexer": "ipython3",
   "version": "3.12.4"
  }
 },
 "nbformat": 4,
 "nbformat_minor": 2
}
