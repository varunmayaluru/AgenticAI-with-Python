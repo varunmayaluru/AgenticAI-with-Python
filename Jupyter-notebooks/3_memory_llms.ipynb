{
 "cells": [
  {
   "cell_type": "code",
   "execution_count": 1,
   "metadata": {},
   "outputs": [],
   "source": [
    "from litellm import completion\n",
    "from typing import List, Dict\n",
    "from dotenv import load_dotenv\n",
    "import os\n",
    "\n",
    "load_dotenv()\n",
    "\n",
    "def generate_response(messages: List[Dict]) -> str:\n",
    "    \"\"\"Call LLM to get response\"\"\"\n",
    "    response = completion(\n",
    "        model=\"openai/gpt-4o\",\n",
    "        messages=messages,\n",
    "        max_tokens=1024,\n",
    "        api_key=os.getenv(\"OPENAI_API_KEY\")\n",
    "    )\n",
    "    return response.choices[0].message.content"
   ]
  },
  {
   "cell_type": "markdown",
   "metadata": {},
   "source": [
    "### First Query"
   ]
  },
  {
   "cell_type": "code",
   "execution_count": 2,
   "metadata": {},
   "outputs": [
    {
     "name": "stdout",
     "output_type": "stream",
     "text": [
      "To swap the keys and values in a dictionary in a functional programming style, we can utilize Python's higher-order functions and dictionary comprehension. Here's a concise function to achieve this:\n",
      "\n",
      "```python\n",
      "def swap_keys_values(d):\n",
      "    return {value: key for key, value in d.items()}\n",
      "\n",
      "# Example usage:\n",
      "original_dict = {'a': 1, 'b': 2, 'c': 3}\n",
      "swapped_dict = swap_keys_values(original_dict)\n",
      "print(swapped_dict)\n",
      "```\n",
      "\n",
      "This function `swap_keys_values` takes a dictionary `d` and uses a dictionary comprehension to create a new dictionary where each key-value pair in `d` is reversed to form a value-key pair. Note that this solution assumes that the values in the input dictionary are unique since dictionary keys must be unique in Python. If there are duplicate values, this function will retain only the last key for each duplicate value.\n"
     ]
    }
   ],
   "source": [
    "messages = [\n",
    "    {\"role\": \"system\", \"content\": \"You are an expert software engineer that prefers functional programming.\"},\n",
    "    {\"role\": \"user\", \"content\": \"Write a function to swap the keys and values in a dictionary.\"}\n",
    "]\n",
    "\n",
    "response = generate_response(messages)\n",
    "print(response)"
   ]
  },
  {
   "cell_type": "markdown",
   "metadata": {},
   "source": [
    "### Second Query"
   ]
  },
  {
   "cell_type": "code",
   "execution_count": 3,
   "metadata": {},
   "outputs": [
    {
     "name": "stdout",
     "output_type": "stream",
     "text": [
      "To provide a more comprehensive answer, I would need to see the actual function you want to document. However, I can provide a general template for how to document a function in Python using docstrings, which are a standard way to document code in Python. You can adapt this template to your specific function.\n",
      "\n",
      "Here's a generic example of how you can document a Python function:\n",
      "\n",
      "```python\n",
      "def function_name(param1, param2, *args, **kwargs):\n",
      "    \"\"\"\n",
      "    Brief one-line description of what the function does.\n",
      "\n",
      "    A more detailed description of the function that can span multiple lines if needed. \n",
      "    Explain the functionality and any important details. \n",
      "\n",
      "    Parameters:\n",
      "    param1 (Type): Description of the first parameter.\n",
      "    param2 (Type): Description of the second parameter.\n",
      "    *args (Type): Description of the additional positional arguments (if any).\n",
      "    **kwargs (Type): Description of the additional keyword arguments (if any).\n",
      "\n",
      "    Returns:\n",
      "    ReturnType: Description of what the function returns. If the function does not return anything, this section can specify 'None'.\n",
      "\n",
      "    Raises:\n",
      "    PossibleException: Description of the exception(s) that the function might raise.\n",
      "\n",
      "    Example:\n",
      "    Example of how to use the function, if appropriate.\n",
      "\n",
      "    \"\"\"\n",
      "    # Implementation of the function\n",
      "    pass\n",
      "```\n",
      "\n",
      "Here's a filled-out example for a specific function:\n",
      "\n",
      "```python\n",
      "def add_numbers(a, b):\n",
      "    \"\"\"\n",
      "    Add two numbers together.\n",
      "\n",
      "    This function takes two integers or floats, `a` and `b`, and returns their sum. \n",
      "\n",
      "    Parameters:\n",
      "    a (int or float): The first number to be added.\n",
      "    b (int or float): The second number to be added.\n",
      "\n",
      "    Returns:\n",
      "    int or float: The sum of `a` and `b`.\n",
      "\n",
      "    Raises:\n",
      "    TypeError: If `a` or `b` are not integers or floats.\n",
      "\n",
      "    Example:\n",
      "    >>> add_numbers(1, 2)\n",
      "    3\n",
      "    >>> add_numbers(1.5, 2.5)\n",
      "    4.0\n",
      "\n",
      "    \"\"\"\n",
      "    if not (isinstance(a, (int, float)) and isinstance(b, (int, float))):\n",
      "        raise TypeError(\"Both parameters must be int or float\")\n",
      "    return a + b\n",
      "```\n",
      "\n",
      "Replace the parts of the example as necessary to fit the details of your specific function, including parameters, return values, possible exceptions, and any example usage.\n"
     ]
    }
   ],
   "source": [
    "# Second query without including the previous response\n",
    "messages = [\n",
    "    {\"role\": \"user\", \"content\": \"Update the function to include documentation.\"}\n",
    "]\n",
    "\n",
    "response = generate_response(messages)\n",
    "print(response)"
   ]
  },
  {
   "cell_type": "markdown",
   "metadata": {},
   "source": [
    "As you see here, llm is not able remember the functoin of swap keys and values and it has given an example function which is not our requirement"
   ]
  },
  {
   "cell_type": "markdown",
   "metadata": {},
   "source": [
    "### Now when we maintain memory"
   ]
  },
  {
   "cell_type": "code",
   "execution_count": 4,
   "metadata": {},
   "outputs": [
    {
     "name": "stdout",
     "output_type": "stream",
     "text": [
      "Certainly! Let's consider a function that swaps the keys and values in a dictionary. I'll create the function and include the necessary documentation using a Python docstring.\n",
      "\n",
      "Here's how the function might look:\n",
      "\n",
      "```python\n",
      "def swap_keys_values(d):\n",
      "    \"\"\"\n",
      "    Swap the keys and values of a dictionary.\n",
      "\n",
      "    This function takes a dictionary `d` and returns a new dictionary \n",
      "    in which the keys and values are swapped. It's assumed that the \n",
      "    values in the dictionary are unique and can be used as keys, \n",
      "    otherwise, there will be data loss during the swap.\n",
      "\n",
      "    Parameters:\n",
      "    d (dict): The dictionary whose keys and values need to be swapped. \n",
      "              Keys must be immutable, and values must be unique.\n",
      "\n",
      "    Returns:\n",
      "    dict: A new dictionary with keys and values swapped.\n",
      "\n",
      "    Raises:\n",
      "    ValueError: If the input dictionary has non-unique values.\n",
      "\n",
      "    Example:\n",
      "    >>> swap_keys_values({'a': 1, 'b': 2, 'c': 3})\n",
      "    {1: 'a', 2: 'b', 3: 'c'}\n",
      "    \n",
      "    >>> swap_keys_values({'x': 1, 'y': 1})\n",
      "    ValueError: Duplicate values found in the dictionary.\n",
      "\n",
      "    \"\"\"\n",
      "    if len(d) != len(set(d.values())):\n",
      "        raise ValueError(\"Duplicate values found in the dictionary.\")\n",
      "    \n",
      "    return {v: k for k, v in d.items()}\n",
      "```\n",
      "\n",
      "### Key Points:\n",
      "- **Parameters**: Describes the input requirements for the function.\n",
      "- **Returns**: Explains the type of the returned object.\n",
      "- **Raises**: Lists any exceptions the function might raise. In this case, a `ValueError` is raised if duplicate values are found, as they would lead to data loss during the swap.\n",
      "- **Example**: Provides examples of how the function behaves with specified inputs.\n",
      "\n",
      "This style of detailed documentation helps users understand the function's purpose, usage, and any potential errors they should handle. Adapt it according to your project's documentation standards, if necessary.\n"
     ]
    }
   ],
   "source": [
    "messages = [\n",
    "   {\"role\": \"system\", \"content\": \"You are an expert software engineer that prefers functional programming.\"},\n",
    "   {\"role\": \"user\", \"content\": \"Write a function to swap the keys and values in a dictionary.\"}\n",
    "]\n",
    "\n",
    "# response = generate_response(messages)\n",
    "# print(response)\n",
    "\n",
    "# We are going to make this verbose so it is clear what\n",
    "# is going on. In a real application, you would likely\n",
    "# just append to the messages list.\n",
    "messages = [\n",
    "   {\"role\": \"system\", \"content\": \"You are an expert software engineer that prefers functional programming.\"},\n",
    "   {\"role\": \"user\", \"content\": \"Write a function to swap the keys and values in a dictionary.\"},\n",
    "   \n",
    "   # Here is the assistant's response from the previous step\n",
    "   # with the code. This gives it \"memory\" of the previous\n",
    "   # interaction.\n",
    "   {\"role\": \"assistant\", \"content\": response},\n",
    "   \n",
    "   # Now, we can ask the assistant to update the function\n",
    "   {\"role\": \"user\", \"content\": \"Update the function to include documentation.\"}\n",
    "]\n",
    "\n",
    "response = generate_response(messages)\n",
    "print(response)"
   ]
  },
  {
   "cell_type": "code",
   "execution_count": null,
   "metadata": {},
   "outputs": [],
   "source": []
  }
 ],
 "metadata": {
  "kernelspec": {
   "display_name": "agenticai-with-python-AHBU4eiR-py3.12",
   "language": "python",
   "name": "python3"
  },
  "language_info": {
   "codemirror_mode": {
    "name": "ipython",
    "version": 3
   },
   "file_extension": ".py",
   "mimetype": "text/x-python",
   "name": "python",
   "nbconvert_exporter": "python",
   "pygments_lexer": "ipython3",
   "version": "3.12.4"
  }
 },
 "nbformat": 4,
 "nbformat_minor": 2
}
