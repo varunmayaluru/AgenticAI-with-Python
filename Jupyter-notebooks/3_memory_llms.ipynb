{
 "cells": [
  {
   "cell_type": "code",
   "execution_count": 1,
   "metadata": {},
   "outputs": [],
   "source": [
    "from litellm import completion\n",
    "from typing import List, Dict\n",
    "from dotenv import load_dotenv\n",
    "import os\n",
    "\n",
    "load_dotenv()\n",
    "\n",
    "def generate_response(messages: List[Dict]) -> str:\n",
    "    \"\"\"Call LLM to get response\"\"\"\n",
    "    response = completion(\n",
    "        model=\"openai/gpt-4o\",\n",
    "        messages=messages,\n",
    "        max_tokens=1024,\n",
    "        api_key=os.getenv(\"OPENAI_API_KEY\")\n",
    "    )\n",
    "    return response.choices[0].message.content"
   ]
  },
  {
   "cell_type": "markdown",
   "metadata": {},
   "source": [
    "### First Query"
   ]
  },
  {
   "cell_type": "code",
   "execution_count": 2,
   "metadata": {},
   "outputs": [
    {
     "name": "stdout",
     "output_type": "stream",
     "text": [
      "Certainly! To swap the keys and values in a dictionary, you can write a function using a functional programming approach. A dictionary in Python can be inverted by mapping each key-value pair to a value-key pair. Here's a function that demonstrates this:\n",
      "\n",
      "```python\n",
      "def swap_keys_and_values(d):\n",
      "    return {v: k for k, v in d.items()}\n",
      "\n",
      "# Example usage:\n",
      "original_dict = {'a': 1, 'b': 2, 'c': 3}\n",
      "swapped_dict = swap_keys_and_values(original_dict)\n",
      "print(swapped_dict)  # Output will be: {1: 'a', 2: 'b', 3: 'c'}\n",
      "```\n",
      "\n",
      "### Considerations:\n",
      "\n",
      "1. **Unique Values Assumption**: This function assumes that all values in the original dictionary are unique, since dictionaries cannot have duplicate keys. If values are not unique, some key-value pairs will be lost during the swap.\n",
      "\n",
      "2. **Immutability**: If you prefer a more functional approach using immutability, note that while dictionaries themselves are mutable, the process here creates a new dictionary, leaving the original unchanged.\n",
      "\n",
      "Feel free to integrate this approach into your larger codebase as needed!\n"
     ]
    }
   ],
   "source": [
    "messages = [\n",
    "    {\"role\": \"system\", \"content\": \"You are an expert software engineer that prefers functional programming.\"},\n",
    "    {\"role\": \"user\", \"content\": \"Write a function to swap the keys and values in a dictionary.\"}\n",
    "]\n",
    "\n",
    "response = generate_response(messages)\n",
    "print(response)"
   ]
  },
  {
   "cell_type": "markdown",
   "metadata": {},
   "source": [
    "### Second Query"
   ]
  },
  {
   "cell_type": "code",
   "execution_count": 3,
   "metadata": {},
   "outputs": [
    {
     "name": "stdout",
     "output_type": "stream",
     "text": [
      "To add documentation to a function, you should include a docstring. A docstring is a string literal that appears right after the function's definition and is used to describe what the function does, its parameters, return values, and any other relevant information. Here's how you can update a function to include documentation:\n",
      "\n",
      "```python\n",
      "def example_function(param1, param2):\n",
      "    \"\"\"\n",
      "    This function performs a simple task.\n",
      "\n",
      "    Parameters:\n",
      "    param1 (int): The first parameter, which is an integer.\n",
      "    param2 (str): The second parameter, which is a string.\n",
      "\n",
      "    Returns:\n",
      "    str: A formatted string that combines both parameters.\n",
      "\n",
      "    Example:\n",
      "    >>> example_function(5, 'hello')\n",
      "    'The number 5 says hello'\n",
      "    \"\"\"\n",
      "    return f\"The number {param1} says {param2}\"\n",
      "```\n",
      "\n",
      "### Key Components of a Docstring:\n",
      "\n",
      "1. **Description**: A brief explanation of what the function does.\n",
      "2. **Parameters Section**: A detailed description of each parameter, including the expected type and what it represents.\n",
      "3. **Returns Section**: Information about the return value, including its type and description.\n",
      "4. **Example (Optional)**: Examples demonstrating how to use the function.\n",
      "\n",
      "### Tips:\n",
      "\n",
      "- Use triple quotes (`\"\"\"`) to start and end the docstring.\n",
      "- Ensure that the description is concise but clear enough for users to understand the function's purpose quickly.\n",
      "- Be consistent with the style and structure of your documentation for easier readability.\n",
      "- Include examples when the function's behavior might not be immediately obvious.\n",
      "\n",
      "Adjust the content of the docstring according to the actual functionality of your function and any specific conventions your project might adhere to (such as those specified by PEP 257 for Python).\n"
     ]
    }
   ],
   "source": [
    "# Second query without including the previous response\n",
    "messages = [\n",
    "    {\"role\": \"user\", \"content\": \"Update the function to include documentation.\"}\n",
    "]\n",
    "\n",
    "response = generate_response(messages)\n",
    "print(response)"
   ]
  },
  {
   "cell_type": "markdown",
   "metadata": {},
   "source": [
    "As you see here, llm is not able remember the functoin of swap keys and values and it has given an example function which is not our requirement"
   ]
  },
  {
   "cell_type": "markdown",
   "metadata": {},
   "source": [
    "### Now when we maintain memory"
   ]
  },
  {
   "cell_type": "code",
   "execution_count": 4,
   "metadata": {},
   "outputs": [
    {
     "name": "stdout",
     "output_type": "stream",
     "text": [
      "Certainly! In functional programming, immutability and pure functions are often emphasized. Here's a pure function to swap the keys and values of a dictionary in Python. This function creates a new dictionary with the swapped key-value pairs.\n",
      "\n",
      "```python\n",
      "def swap_keys_values(d):\n",
      "    return {value: key for key, value in d.items()}\n",
      "\n",
      "# Example usage\n",
      "original_dict = {'a': 1, 'b': 2, 'c': 3}\n",
      "swapped_dict = swap_keys_values(original_dict)\n",
      "print(swapped_dict)  # Output: {1: 'a', 2: 'b', 3: 'c'}\n",
      "```\n",
      "\n",
      "### Key Considerations:\n",
      "- **Assumption**: This implementation assumes that all values in the input dictionary are unique, as dictionary keys must be unique. If there are duplicate values in the original dictionary, the resulting dictionary will only retain one of the original keys, and you might lose data.\n",
      "- **Immutability**: The function doesn't modify the original dictionary but returns a new one with the swapped key-value pairs.\n",
      "  \n",
      "If you are interested in handling dictionaries with non-unique values, the function can be modified to account for that, but the structure would have to change (e.g., allowing keys to map to a list of values). Let me know if you want an example of that!\n",
      "Certainly! Adding documentation to a function is a great practice, as it helps others (and your future self) understand the purpose, assumptions, and usage of the function. Below is the updated `swap_keys_values` function with a docstring:\n",
      "\n",
      "```python\n",
      "def swap_keys_values(d):\n",
      "    \"\"\"\n",
      "    Swap the keys and values in a dictionary.\n",
      "\n",
      "    This function takes a dictionary as input and returns a new dictionary\n",
      "    with the keys and values swapped. It is assumed that all values in the \n",
      "    input dictionary are unique and hashable, as the keys of a dictionary \n",
      "    must be unique.\n",
      "\n",
      "    Parameters:\n",
      "    - d (dict): The dictionary whose keys and values are to be swapped.\n",
      "\n",
      "    Returns:\n",
      "    - dict: A new dictionary with the keys and values swapped.\n",
      "\n",
      "    Example:\n",
      "    >>> original_dict = {'a': 1, 'b': 2, 'c': 3}\n",
      "    >>> swap_keys_values(original_dict)\n",
      "    {1: 'a', 2: 'b', 3: 'c'}\n",
      "\n",
      "    Note:\n",
      "    If the original dictionary contains duplicate values, only one of the\n",
      "    original keys will be preserved in the resulting dictionary.\n",
      "    \"\"\"\n",
      "    return {value: key for key, value in d.items()}\n",
      "\n",
      "# Example usage\n",
      "original_dict = {'a': 1, 'b': 2, 'c': 3}\n",
      "swapped_dict = swap_keys_values(original_dict)\n",
      "print(swapped_dict)  # Output: {1: 'a', 2: 'b', 3: 'c'}\n",
      "```\n",
      "\n",
      "### Key Points of the Documentation:\n",
      "- **Description**: Explains what the function does.\n",
      "- **Assumptions**: Indicates the requirement of unique and hashable values.\n",
      "- **Parameters**: Describes the input parameter.\n",
      "- **Returns**: Describes the output of the function.\n",
      "- **Example**: Provides an example of how to use the function.\n",
      "- **Note**: Clarifies the behavior when encountering duplicate values in the input.\n",
      "\n",
      "Feel free to adjust the docstring according to your application's specific needs or conventions!\n"
     ]
    }
   ],
   "source": [
    "messages = [\n",
    "   {\"role\": \"system\", \"content\": \"You are an expert software engineer that prefers functional programming.\"},\n",
    "   {\"role\": \"user\", \"content\": \"Write a function to swap the keys and values in a dictionary.\"}\n",
    "]\n",
    "\n",
    "response = generate_response(messages)\n",
    "print(response)\n",
    "\n",
    "# We are going to make this verbose so it is clear what\n",
    "# is going on. In a real application, you would likely\n",
    "# just append to the messages list.\n",
    "messages = [\n",
    "   {\"role\": \"system\", \"content\": \"You are an expert software engineer that prefers functional programming.\"},\n",
    "   {\"role\": \"user\", \"content\": \"Write a function to swap the keys and values in a dictionary.\"},\n",
    "   \n",
    "   # Here is the assistant's response from the previous step\n",
    "   # with the code. This gives it \"memory\" of the previous\n",
    "   # interaction.\n",
    "   {\"role\": \"assistant\", \"content\": response},\n",
    "   \n",
    "   # Now, we can ask the assistant to update the function\n",
    "   {\"role\": \"user\", \"content\": \"Update the function to include documentation.\"}\n",
    "]\n",
    "\n",
    "response = generate_response(messages)\n",
    "print(response)"
   ]
  },
  {
   "cell_type": "code",
   "execution_count": null,
   "metadata": {},
   "outputs": [],
   "source": []
  }
 ],
 "metadata": {
  "kernelspec": {
   "display_name": "agenticai-with-python-AHBU4eiR-py3.12",
   "language": "python",
   "name": "python3"
  },
  "language_info": {
   "codemirror_mode": {
    "name": "ipython",
    "version": 3
   },
   "file_extension": ".py",
   "mimetype": "text/x-python",
   "name": "python",
   "nbconvert_exporter": "python",
   "pygments_lexer": "ipython3",
   "version": "3.12.4"
  }
 },
 "nbformat": 4,
 "nbformat_minor": 2
}
